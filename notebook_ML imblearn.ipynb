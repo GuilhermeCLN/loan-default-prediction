{
 "cells": [
  {
   "cell_type": "code",
   "execution_count": 2,
   "metadata": {},
   "outputs": [],
   "source": [
    "import matplotlib.pyplot as plt\n",
    "import numpy as np\n",
    "import pandas as pd\n",
    "from sklearn.metrics import RocCurveDisplay, classification_report, roc_curve\n",
    "from sklearn.model_selection import RandomizedSearchCV, StratifiedKFold, train_test_split\n",
    "from sklearn.ensemble import RandomForestClassifier\n",
    "from imblearn.ensemble import BalancedRandomForestClassifier\n",
    "\n",
    "from tools_ml.data_process import filter_features\n",
    "from tools_ml.models import get_pipeline"
   ]
  },
  {
   "cell_type": "code",
   "execution_count": 4,
   "metadata": {},
   "outputs": [],
   "source": [
    "df_raw = pd.read_csv(\"data/application_train.csv\")\n",
    "\n",
    "# Dropando a coluna de gênero e SK_ID_CURR\n",
    "df_raw.drop(\"CODE_GENDER\", inplace=True, axis=1)\n",
    "df_raw.drop(\"SK_ID_CURR\", inplace=True, axis=1)\n",
    "\n",
    "# Filtrando as features com mais de 50% de valores nulos\n",
    "df_raw_fil = filter_features(df_raw, 0.5)"
   ]
  },
  {
   "cell_type": "code",
   "execution_count": 5,
   "metadata": {},
   "outputs": [],
   "source": [
    "# Features Numéricas\n",
    "features_num = df_raw_fil.select_dtypes(include=np.number).columns.tolist()\n",
    "features_num.remove('TARGET')\n",
    "\n",
    "# Features Categóricas\n",
    "features_cat = df_raw_fil.select_dtypes(exclude=np.number).columns.tolist()\n",
    "\n",
    "# Selecionando features que possuem menos de 10 categorias\n",
    "df_num = df_raw_fil[features_num]\n",
    "novas_cat = df_num.nunique()[df_num.nunique()<10].sort_values()\n",
    "novas_cat.drop([\n",
    "    'DEF_30_CNT_SOCIAL_CIRCLE',\n",
    "    'DEF_60_CNT_SOCIAL_CIRCLE',\n",
    "    'AMT_REQ_CREDIT_BUREAU_HOUR',\n",
    "    'AMT_REQ_CREDIT_BUREAU_DAY',\n",
    "    'AMT_REQ_CREDIT_BUREAU_WEEK'\n",
    "], inplace=True)\n",
    "\n",
    "features_cat = features_cat + novas_cat.index.tolist()\n",
    "features_num = df_raw_fil.columns.drop(features_cat).tolist()\n",
    "features_num.remove('TARGET')"
   ]
  },
  {
   "cell_type": "code",
   "execution_count": 6,
   "metadata": {},
   "outputs": [],
   "source": [
    "# Separando em treino e teste\n",
    "X_train, X_test, y_train, y_test = train_test_split(\n",
    "    df_raw_fil.drop(columns='TARGET'),\n",
    "    df_raw_fil['TARGET'],\n",
    "    train_size=0.7,\n",
    "    random_state=42,\n",
    "    stratify=df_raw_fil['TARGET']\n",
    ")"
   ]
  },
  {
   "cell_type": "code",
   "execution_count": 7,
   "metadata": {},
   "outputs": [],
   "source": [
    "pipe_final = get_pipeline(\n",
    "    features_cat=features_cat,\n",
    "    features_num=features_num,\n",
    "    classifier=BalancedRandomForestClassifier(random_state=42, n_estimators=100)\n",
    ")"
   ]
  },
  {
   "cell_type": "code",
   "execution_count": 20,
   "metadata": {},
   "outputs": [
    {
     "name": "stderr",
     "output_type": "stream",
     "text": [
      "c:\\Users\\Guilerme\\anaconda3\\lib\\site-packages\\sklearn\\model_selection\\_search.py:292: UserWarning: The total space of parameters 9 is smaller than n_iter=10. Running 9 iterations. For exhaustive searches, use GridSearchCV.\n",
      "  warnings.warn(\n"
     ]
    },
    {
     "name": "stdout",
     "output_type": "stream",
     "text": [
      "Fitting 5 folds for each of 9 candidates, totalling 45 fits\n"
     ]
    }
   ],
   "source": [
    "# Hyperparam tuning\n",
    "espaco_hiper = {\n",
    "    'classifier__n_estimators': [200, 300, 400],\n",
    "    'classifier__max_depth': [20, 30, 40]\n",
    "}\n",
    "cv = StratifiedKFold(n_splits=5, shuffle=True, random_state=42)\n",
    "\n",
    "rand_brfc = RandomizedSearchCV(\n",
    "    estimator=pipe_final,\n",
    "    param_distributions=espaco_hiper,\n",
    "    scoring='roc_auc',\n",
    "    cv=cv,\n",
    "    n_jobs=-2,\n",
    "    verbose=5,\n",
    "    random_state=42\n",
    ")\n",
    "\n",
    "rand_brfc.fit(X_train, y_train);"
   ]
  },
  {
   "cell_type": "code",
   "execution_count": 15,
   "metadata": {},
   "outputs": [
    {
     "name": "stderr",
     "output_type": "stream",
     "text": [
      "c:\\Users\\Guilerme\\anaconda3\\lib\\site-packages\\sklearn\\preprocessing\\_encoders.py:170: UserWarning: Found unknown categories in columns [18] during transform. These unknown categories will be encoded as all zeros\n",
      "  warnings.warn(\n"
     ]
    }
   ],
   "source": [
    "# Getting predictions\n",
    "y_pred = rand_brfc.predict(X_test)"
   ]
  },
  {
   "cell_type": "code",
   "execution_count": 16,
   "metadata": {},
   "outputs": [
    {
     "name": "stdout",
     "output_type": "stream",
     "text": [
      "              precision    recall  f1-score   support\n",
      "\n",
      "           0       0.96      0.69      0.80     67812\n",
      "           1       0.16      0.65      0.25      5991\n",
      "\n",
      "    accuracy                           0.69     73803\n",
      "   macro avg       0.56      0.67      0.53     73803\n",
      "weighted avg       0.89      0.69      0.76     73803\n",
      "\n"
     ]
    }
   ],
   "source": [
    "# Model report\n",
    "print(classification_report(y_test, y_pred))"
   ]
  },
  {
   "cell_type": "code",
   "execution_count": 17,
   "metadata": {},
   "outputs": [
    {
     "data": {
      "text/html": [
       "<div>\n",
       "<style scoped>\n",
       "    .dataframe tbody tr th:only-of-type {\n",
       "        vertical-align: middle;\n",
       "    }\n",
       "\n",
       "    .dataframe tbody tr th {\n",
       "        vertical-align: top;\n",
       "    }\n",
       "\n",
       "    .dataframe thead th {\n",
       "        text-align: right;\n",
       "    }\n",
       "</style>\n",
       "<table border=\"1\" class=\"dataframe\">\n",
       "  <thead>\n",
       "    <tr style=\"text-align: right;\">\n",
       "      <th></th>\n",
       "      <th>precision</th>\n",
       "      <th>recall</th>\n",
       "      <th>f1-score</th>\n",
       "      <th>support</th>\n",
       "    </tr>\n",
       "  </thead>\n",
       "  <tbody>\n",
       "    <tr>\n",
       "      <th>0</th>\n",
       "      <td>0.957518</td>\n",
       "      <td>0.690350</td>\n",
       "      <td>0.802276</td>\n",
       "      <td>67812.000000</td>\n",
       "    </tr>\n",
       "    <tr>\n",
       "      <th>1</th>\n",
       "      <td>0.157113</td>\n",
       "      <td>0.653313</td>\n",
       "      <td>0.253309</td>\n",
       "      <td>5991.000000</td>\n",
       "    </tr>\n",
       "    <tr>\n",
       "      <th>accuracy</th>\n",
       "      <td>0.687343</td>\n",
       "      <td>0.687343</td>\n",
       "      <td>0.687343</td>\n",
       "      <td>0.687343</td>\n",
       "    </tr>\n",
       "    <tr>\n",
       "      <th>macro avg</th>\n",
       "      <td>0.557315</td>\n",
       "      <td>0.671832</td>\n",
       "      <td>0.527792</td>\n",
       "      <td>73803.000000</td>\n",
       "    </tr>\n",
       "    <tr>\n",
       "      <th>weighted avg</th>\n",
       "      <td>0.892544</td>\n",
       "      <td>0.687343</td>\n",
       "      <td>0.757713</td>\n",
       "      <td>73803.000000</td>\n",
       "    </tr>\n",
       "  </tbody>\n",
       "</table>\n",
       "</div>"
      ],
      "text/plain": [
       "              precision    recall  f1-score       support\n",
       "0              0.957518  0.690350  0.802276  67812.000000\n",
       "1              0.157113  0.653313  0.253309   5991.000000\n",
       "accuracy       0.687343  0.687343  0.687343      0.687343\n",
       "macro avg      0.557315  0.671832  0.527792  73803.000000\n",
       "weighted avg   0.892544  0.687343  0.757713  73803.000000"
      ]
     },
     "execution_count": 17,
     "metadata": {},
     "output_type": "execute_result"
    }
   ],
   "source": [
    "df_report = classification_report(y_test, y_pred, output_dict=True)\n",
    "df_report = pd.DataFrame(df_report).transpose()\n",
    "df_report"
   ]
  },
  {
   "cell_type": "code",
   "execution_count": 18,
   "metadata": {},
   "outputs": [
    {
     "name": "stdout",
     "output_type": "stream",
     "text": [
      "Best Parameters:\n"
     ]
    },
    {
     "ename": "AttributeError",
     "evalue": "'RandomizedSearchCV' object has no attribute 'best_params_'",
     "output_type": "error",
     "traceback": [
      "\u001b[1;31m---------------------------------------------------------------------------\u001b[0m",
      "\u001b[1;31mAttributeError\u001b[0m                            Traceback (most recent call last)",
      "\u001b[1;32mc:\\Users\\Guilerme\\Repositórios de códigos\\loan-default-prediction\\notebook_ML imblearn.ipynb Cell 10\u001b[0m in \u001b[0;36m<cell line: 3>\u001b[1;34m()\u001b[0m\n\u001b[0;32m      <a href='vscode-notebook-cell:/c%3A/Users/Guilerme/Reposit%C3%B3rios%20de%20c%C3%B3digos/loan-default-prediction/notebook_ML%20imblearn.ipynb#X12sZmlsZQ%3D%3D?line=0'>1</a>\u001b[0m \u001b[39m# Params and Score\u001b[39;00m\n\u001b[0;32m      <a href='vscode-notebook-cell:/c%3A/Users/Guilerme/Reposit%C3%B3rios%20de%20c%C3%B3digos/loan-default-prediction/notebook_ML%20imblearn.ipynb#X12sZmlsZQ%3D%3D?line=1'>2</a>\u001b[0m \u001b[39mprint\u001b[39m(\u001b[39m\"\u001b[39m\u001b[39mBest Parameters:\u001b[39m\u001b[39m\"\u001b[39m)\n\u001b[1;32m----> <a href='vscode-notebook-cell:/c%3A/Users/Guilerme/Reposit%C3%B3rios%20de%20c%C3%B3digos/loan-default-prediction/notebook_ML%20imblearn.ipynb#X12sZmlsZQ%3D%3D?line=2'>3</a>\u001b[0m \u001b[39mfor\u001b[39;00m param, value \u001b[39min\u001b[39;00m rand_brfc\u001b[39m.\u001b[39;49mbest_params_\u001b[39m.\u001b[39mitems():\n\u001b[0;32m      <a href='vscode-notebook-cell:/c%3A/Users/Guilerme/Reposit%C3%B3rios%20de%20c%C3%B3digos/loan-default-prediction/notebook_ML%20imblearn.ipynb#X12sZmlsZQ%3D%3D?line=3'>4</a>\u001b[0m     \u001b[39mprint\u001b[39m(\u001b[39mf\u001b[39m\u001b[39m\"\u001b[39m\u001b[39m  - \u001b[39m\u001b[39m{\u001b[39;00mparam\u001b[39m.\u001b[39mtitle()\u001b[39m}\u001b[39;00m\u001b[39m: \u001b[39m\u001b[39m{\u001b[39;00mvalue\u001b[39m:\u001b[39;00m\u001b[39m.2g\u001b[39m\u001b[39m}\u001b[39;00m\u001b[39m\"\u001b[39m)\n\u001b[0;32m      <a href='vscode-notebook-cell:/c%3A/Users/Guilerme/Reposit%C3%B3rios%20de%20c%C3%B3digos/loan-default-prediction/notebook_ML%20imblearn.ipynb#X12sZmlsZQ%3D%3D?line=4'>5</a>\u001b[0m \u001b[39mprint\u001b[39m(\u001b[39mf\u001b[39m\u001b[39m\"\u001b[39m\u001b[39mBest Score: \u001b[39m\u001b[39m{\u001b[39;00mrand_brfc\u001b[39m.\u001b[39mbest_score_\u001b[39m:\u001b[39;00m\u001b[39m.2g\u001b[39m\u001b[39m}\u001b[39;00m\u001b[39m\"\u001b[39m)\n",
      "\u001b[1;31mAttributeError\u001b[0m: 'RandomizedSearchCV' object has no attribute 'best_params_'"
     ]
    }
   ],
   "source": [
    "# Params and Score\n",
    "print(\"Best Parameters:\")\n",
    "for param, value in rand_brfc.best_params_.items():\n",
    "    print(f\"  - {param.title()}: {value:.2g}\")\n",
    "print(f\"Best Score: {rand_brfc.best_score_:.2g}\") "
   ]
  },
  {
   "cell_type": "code",
   "execution_count": 19,
   "metadata": {},
   "outputs": [
    {
     "data": {
      "image/png": "[encoded data removed]",
      "text/plain": [
       "<Figure size 640x480 with 1 Axes>"
      ]
     },
     "metadata": {},
     "output_type": "display_data"
    }
   ],
   "source": [
    "# Roc Curve\n",
    "fpr, tpr, thr = roc_curve(y_test, y_pred)\n",
    "RocCurveDisplay(fpr = fpr, tpr = tpr).plot()\n",
    "plt.plot([0,1], [0,1], '--', color = 'y', linewidth= 1)\n",
    "plt.show()"
   ]
  },
  {
   "cell_type": "code",
   "execution_count": null,
   "metadata": {},
   "outputs": [],
   "source": []
  }
 ],
 "metadata": {
  "kernelspec": {
   "display_name": "Python 3.9.13 ('base')",
   "language": "python",
   "name": "python3"
  },
  "language_info": {
   "codemirror_mode": {
    "name": "ipython",
    "version": 3
   },
   "file_extension": ".py",
   "mimetype": "text/x-python",
   "name": "python",
   "nbconvert_exporter": "python",
   "pygments_lexer": "ipython3",
   "version": "3.9.13 (main, Oct 13 2022, 21:23:06) [MSC v.1916 64 bit (AMD64)]"
  },
  "orig_nbformat": 4,
  "vscode": {
   "interpreter": {
    "hash": "475e1a16712c75e6f420dc241e46e3a20593f7174cc3b6fcebdfcd1763efcb65"
   }
  }
 },
 "nbformat": 4,
 "nbformat_minor": 2
}
