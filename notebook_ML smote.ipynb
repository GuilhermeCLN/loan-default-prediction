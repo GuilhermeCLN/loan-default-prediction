{
 "cells": [
  {
   "cell_type": "code",
   "execution_count": 1,
   "metadata": {},
   "outputs": [],
   "source": [
    "import matplotlib.pyplot as plt\n",
    "import numpy as np\n",
    "import pandas as pd\n",
    "from sklearn.metrics import RocCurveDisplay, classification_report, roc_curve\n",
    "from sklearn.model_selection import RandomizedSearchCV, StratifiedKFold, train_test_split\n",
    "from xgboost import XGBClassifier\n",
    "\n",
    "from tools_ml.data_process import filter_features\n",
    "from tools_ml.models import get_pipeline"
   ]
  },
  {
   "cell_type": "code",
   "execution_count": null,
   "metadata": {},
   "outputs": [],
   "source": [
    "df_raw = pd.read_csv(\"data/application_train.csv\")\n",
    "\n",
    "# Dropando a coluna de gênero e SK_ID_CURR\n",
    "df_raw.drop(\"CODE_GENDER\", inplace=True, axis=1)\n",
    "df_raw.drop(\"SK_ID_CURR\", inplace=True, axis=1)\n",
    "\n",
    "# Filtrando as features com mais de 50% de valores nulos\n",
    "df_raw_fil = filter_features(df_raw, 0.5)"
   ]
  },
  {
   "cell_type": "code",
   "execution_count": null,
   "metadata": {},
   "outputs": [],
   "source": [
    "# Features Numéricas\n",
    "features_num = df_raw_fil.select_dtypes(include=np.number).columns.tolist()\n",
    "features_num.remove('TARGET')\n",
    "\n",
    "# Features Categóricas\n",
    "features_cat = df_raw_fil.select_dtypes(exclude=np.number).columns.tolist()\n",
    "\n",
    "# Selecionando features que possuem menos de 10 categorias\n",
    "df_num = df_raw_fil[features_num]\n",
    "novas_cat = df_num.nunique()[df_num.nunique()<10].sort_values()\n",
    "novas_cat.drop([\n",
    "    'DEF_30_CNT_SOCIAL_CIRCLE',\n",
    "    'DEF_60_CNT_SOCIAL_CIRCLE',\n",
    "    'AMT_REQ_CREDIT_BUREAU_HOUR',\n",
    "    'AMT_REQ_CREDIT_BUREAU_DAY',\n",
    "    'AMT_REQ_CREDIT_BUREAU_WEEK'\n",
    "], inplace=True)\n",
    "\n",
    "features_cat = features_cat + novas_cat.index.tolist()\n",
    "features_num = df_raw_fil.columns.drop(features_cat).tolist()\n",
    "features_num.remove('TARGET')"
   ]
  },
  {
   "cell_type": "code",
   "execution_count": null,
   "metadata": {},
   "outputs": [],
   "source": [
    "# Separando em treino e teste\n",
    "X_train, X_test, y_train, y_test = train_test_split(\n",
    "    df_raw_fil.drop(columns='TARGET'),\n",
    "    df_raw_fil['TARGET'],\n",
    "    train_size=0.7,\n",
    "    random_state=42,\n",
    "    stratify=df_raw_fil['TARGET']\n",
    ")"
   ]
  },
  {
   "cell_type": "code",
   "execution_count": null,
   "metadata": {},
   "outputs": [],
   "source": [
    "pipe_final = get_pipeline(\n",
    "    features_cat=features_cat,\n",
    "    features_num=features_num,\n",
    "    classifier=XGBClassifier,\n",
    "    random_state=42\n",
    ")"
   ]
  },
  {
   "cell_type": "code",
   "execution_count": null,
   "metadata": {},
   "outputs": [],
   "source": [
    "# Hyperparam tuning\n",
    "espaco_hiper = {\n",
    "    'classifier__learning_rate' : [0.05, 0.10, 0.15, 0.20, 0.25, 0.30],\n",
    "    'classifier__max_depth' : [3, 4, 5, 6, 8, 10, 12, 15],\n",
    "    'classifier__min_child_weight' : [1, 3, 5, 7 ],\n",
    "    'classifier__gamma': [0.0, 0.1, 0.2 , 0.3, 0.4],\n",
    "    'classifier__colsample_bytree' : [0.3, 0.4, 0.5 , 0.7]\n",
    "}\n",
    "cv = StratifiedKFold(n_splits=5, shuffle=True, random_state=42)\n",
    "\n",
    "rand_xgb = RandomizedSearchCV(\n",
    "    estimator=pipe_final,\n",
    "    param_distributions=espaco_hiper,\n",
    "    scoring='roc_auc',\n",
    "    cv=cv,\n",
    "    n_jobs=-2,\n",
    "    verbose=5,\n",
    "    random_state=42\n",
    ")\n",
    "\n",
    "#rand_xgb.fit(X_train_res, y_train_res)\n",
    "pipe_final.fit(X_train, y_train)"
   ]
  },
  {
   "cell_type": "code",
   "execution_count": null,
   "metadata": {},
   "outputs": [],
   "source": [
    "# Getting predictions\n",
    "#y_pred = rand_xgb.predict(X_test)\n",
    "y_pred = pipe_final.predict(X_test)"
   ]
  },
  {
   "cell_type": "code",
   "execution_count": null,
   "metadata": {},
   "outputs": [],
   "source": [
    "# Model report\n",
    "print(classification_report(y_test, y_pred))"
   ]
  },
  {
   "cell_type": "code",
   "execution_count": null,
   "metadata": {},
   "outputs": [],
   "source": [
    "df_report = classification_report(y_test, y_pred, output_dict=True)\n",
    "df_report = pd.DataFrame(df_report).transpose()\n",
    "df_report"
   ]
  },
  {
   "cell_type": "code",
   "execution_count": null,
   "metadata": {},
   "outputs": [],
   "source": [
    "# Params and Score\n",
    "print(\"Best Parameters:\")\n",
    "for param, value in rand_xgb.best_params_.items():\n",
    "    print(f\"  - {param.title()}: {value:.2g}\")\n",
    "print(f\"Best Score: {rand_xgb.best_score_:.2g}\") "
   ]
  },
  {
   "cell_type": "code",
   "execution_count": null,
   "metadata": {},
   "outputs": [],
   "source": [
    "# Roc Curve\n",
    "fpr, tpr, thr = roc_curve(y_test, y_pred)\n",
    "RocCurveDisplay(fpr = fpr, tpr = tpr).plot()\n",
    "plt.plot([0,1], [0,1], '--', color = 'y', linewidth= 1)\n",
    "plt.show()"
   ]
  }
 ],
 "metadata": {
  "kernelspec": {
   "display_name": "base",
   "language": "python",
   "name": "python3"
  },
  "language_info": {
   "codemirror_mode": {
    "name": "ipython",
    "version": 3
   },
   "file_extension": ".py",
   "mimetype": "text/x-python",
   "name": "python",
   "nbconvert_exporter": "python",
   "pygments_lexer": "ipython3",
   "version": "3.9.13"
  },
  "orig_nbformat": 4,
  "vscode": {
   "interpreter": {
    "hash": "475e1a16712c75e6f420dc241e46e3a20593f7174cc3b6fcebdfcd1763efcb65"
   }
  }
 },
 "nbformat": 4,
 "nbformat_minor": 2
}
