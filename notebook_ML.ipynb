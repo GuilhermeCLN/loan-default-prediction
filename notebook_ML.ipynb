{
 "cells": [
  {
   "cell_type": "code",
   "execution_count": 3,
   "metadata": {},
   "outputs": [],
   "source": [
    "import matplotlib.pyplot as plt\n",
    "import numpy as np\n",
    "import pandas as pd\n",
    "from sklearn.metrics import RocCurveDisplay, classification_report, roc_curve\n",
    "from sklearn.model_selection import RandomizedSearchCV, StratifiedKFold, train_test_split\n",
    "from xgboost import XGBClassifier\n",
    "\n",
    "from tools_ml.data_process import filter_features\n",
    "from tools_ml.models import get_pipeline"
   ]
  },
  {
   "cell_type": "code",
   "execution_count": 4,
   "metadata": {},
   "outputs": [],
   "source": [
    "df_raw = pd.read_csv(\"data/application_train.csv\")\n",
    "\n",
    "# Dropando a coluna de gênero e SK_ID_CURR\n",
    "df_raw.drop(\"CODE_GENDER\", inplace=True, axis=1)\n",
    "df_raw.drop(\"SK_ID_CURR\", inplace=True, axis=1)\n",
    "\n",
    "# Filtrando as features com mais de 50% de valores nulos\n",
    "df_raw_fil = filter_features(df_raw, 0.5)"
   ]
  },
  {
   "cell_type": "code",
   "execution_count": 5,
   "metadata": {},
   "outputs": [],
   "source": [
    "# Features Numéricas\n",
    "features_num = df_raw_fil.select_dtypes(include=np.number).columns.tolist()\n",
    "features_num.remove('TARGET')\n",
    "\n",
    "# Features Categóricas\n",
    "features_cat = df_raw_fil.select_dtypes(exclude=np.number).columns.tolist()\n",
    "\n",
    "# Selecionando features que possuem menos de 10 categorias\n",
    "df_num = df_raw_fil[features_num]\n",
    "novas_cat = df_num.nunique()[df_num.nunique()<10].sort_values()\n",
    "novas_cat.drop([\n",
    "    'DEF_30_CNT_SOCIAL_CIRCLE',\n",
    "    'DEF_60_CNT_SOCIAL_CIRCLE',\n",
    "    'AMT_REQ_CREDIT_BUREAU_HOUR',\n",
    "    'AMT_REQ_CREDIT_BUREAU_DAY',\n",
    "    'AMT_REQ_CREDIT_BUREAU_WEEK'\n",
    "], inplace=True)\n",
    "\n",
    "features_cat = features_cat + novas_cat.index.tolist()\n",
    "features_num = df_raw_fil.columns.drop(features_cat).tolist()\n",
    "features_num.remove('TARGET')"
   ]
  },
  {
   "cell_type": "code",
   "execution_count": 6,
   "metadata": {},
   "outputs": [],
   "source": [
    "# Separando em treino e teste\n",
    "X_train, X_test, y_train, y_test = train_test_split(\n",
    "    df_raw_fil.drop(columns='TARGET'),\n",
    "    df_raw_fil['TARGET'],\n",
    "    train_size=0.7,\n",
    "    random_state=42,\n",
    "    stratify=df_raw_fil['TARGET']\n",
    ")"
   ]
  },
  {
   "cell_type": "code",
   "execution_count": 7,
   "metadata": {},
   "outputs": [],
   "source": [
    "# Proporção entre 0 e 1 na variável alvo\n",
    "ratio = y_train.value_counts()[0]/y_train.value_counts()[1]\n",
    "\n",
    "pipe_final = get_pipeline(\n",
    "    features_cat=features_cat,\n",
    "    features_num=features_num,\n",
    "    classifier=XGBClassifier(random_state=42, scale_pos_weight=ratio)\n",
    ")"
   ]
  },
  {
   "cell_type": "code",
   "execution_count": 8,
   "metadata": {},
   "outputs": [
    {
     "name": "stdout",
     "output_type": "stream",
     "text": [
      "Fitting 5 folds for each of 10 candidates, totalling 50 fits\n"
     ]
    },
    {
     "data": {
      "text/plain": [
       "RandomizedSearchCV(cv=StratifiedKFold(n_splits=5, random_state=42, shuffle=True),\n",
       "                   estimator=Pipeline(steps=[('pre_processor',\n",
       "                                              ColumnTransformer(transformers=[('tr_num',\n",
       "                                                                               Pipeline(steps=[('tr_imput_mean',\n",
       "                                                                                                SimpleImputer()),\n",
       "                                                                                               ('tr_min_max',\n",
       "                                                                                                StandardScaler())]),\n",
       "                                                                               ['CNT_CHILDREN',\n",
       "                                                                                'AMT_INCOME_TOTAL',\n",
       "                                                                                'AMT_CREDIT',\n",
       "                                                                                'AMT_ANNUITY',\n",
       "                                                                                'AMT_GOODS_PRICE',\n",
       "                                                                                'REGION_POPULATION_REL...\n",
       "                                                            num_parallel_tree=None,\n",
       "                                                            predictor=None,\n",
       "                                                            random_state=42, ...))]),\n",
       "                   n_jobs=-2,\n",
       "                   param_distributions={'classifier__colsample_bytree': [0.3,\n",
       "                                                                         0.4,\n",
       "                                                                         0.5,\n",
       "                                                                         0.7],\n",
       "                                        'classifier__gamma': [0.0, 0.1, 0.2,\n",
       "                                                              0.3, 0.4],\n",
       "                                        'classifier__learning_rate': [0.05, 0.1,\n",
       "                                                                      0.15, 0.2,\n",
       "                                                                      0.25,\n",
       "                                                                      0.3],\n",
       "                                        'classifier__max_depth': [3, 4, 5, 6, 8,\n",
       "                                                                  10, 12, 15],\n",
       "                                        'classifier__min_child_weight': [1, 3,\n",
       "                                                                         5,\n",
       "                                                                         7]},\n",
       "                   random_state=42, scoring='roc_auc', verbose=5)"
      ]
     },
     "execution_count": 8,
     "metadata": {},
     "output_type": "execute_result"
    }
   ],
   "source": [
    "# Hyperparam tuning\n",
    "espaco_hiper = {\n",
    "    'classifier__learning_rate' : [0.05, 0.10, 0.15, 0.20, 0.25, 0.30],\n",
    "    'classifier__max_depth' : [3, 4, 5, 6, 8, 10, 12, 15],\n",
    "    'classifier__min_child_weight' : [1, 3, 5, 7 ],\n",
    "    'classifier__gamma': [0.0, 0.1, 0.2 , 0.3, 0.4],\n",
    "    'classifier__colsample_bytree' : [0.3, 0.4, 0.5 , 0.7]\n",
    "}\n",
    "cv = StratifiedKFold(n_splits=5, shuffle=True, random_state=42)\n",
    "\n",
    "rand_xgb = RandomizedSearchCV(\n",
    "    estimator=pipe_final,\n",
    "    param_distributions=espaco_hiper,\n",
    "    scoring='roc_auc',\n",
    "    cv=cv,\n",
    "    n_jobs=-2,\n",
    "    verbose=5,\n",
    "    random_state=42\n",
    ")\n",
    "\n",
    "rand_xgb.fit(X_train, y_train)"
   ]
  },
  {
   "cell_type": "code",
   "execution_count": 9,
   "metadata": {},
   "outputs": [
    {
     "name": "stderr",
     "output_type": "stream",
     "text": [
      "c:\\Users\\Guilerme\\anaconda3\\lib\\site-packages\\sklearn\\preprocessing\\_encoders.py:170: UserWarning: Found unknown categories in columns [18] during transform. These unknown categories will be encoded as all zeros\n",
      "  warnings.warn(\n"
     ]
    }
   ],
   "source": [
    "# Getting predictions\n",
    "y_pred = rand_xgb.predict(X_test)"
   ]
  },
  {
   "cell_type": "code",
   "execution_count": 10,
   "metadata": {},
   "outputs": [
    {
     "name": "stdout",
     "output_type": "stream",
     "text": [
      "              precision    recall  f1-score   support\n",
      "\n",
      "           0       0.96      0.71      0.81     67812\n",
      "           1       0.17      0.66      0.27      5991\n",
      "\n",
      "    accuracy                           0.70     73803\n",
      "   macro avg       0.56      0.68      0.54     73803\n",
      "weighted avg       0.89      0.70      0.77     73803\n",
      "\n"
     ]
    }
   ],
   "source": [
    "# Model report\n",
    "print(classification_report(y_test, y_pred))"
   ]
  },
  {
   "cell_type": "code",
   "execution_count": 11,
   "metadata": {},
   "outputs": [
    {
     "data": {
      "text/html": [
       "<div>\n",
       "<style scoped>\n",
       "    .dataframe tbody tr th:only-of-type {\n",
       "        vertical-align: middle;\n",
       "    }\n",
       "\n",
       "    .dataframe tbody tr th {\n",
       "        vertical-align: top;\n",
       "    }\n",
       "\n",
       "    .dataframe thead th {\n",
       "        text-align: right;\n",
       "    }\n",
       "</style>\n",
       "<table border=\"1\" class=\"dataframe\">\n",
       "  <thead>\n",
       "    <tr style=\"text-align: right;\">\n",
       "      <th></th>\n",
       "      <th>precision</th>\n",
       "      <th>recall</th>\n",
       "      <th>f1-score</th>\n",
       "      <th>support</th>\n",
       "    </tr>\n",
       "  </thead>\n",
       "  <tbody>\n",
       "    <tr>\n",
       "      <th>0</th>\n",
       "      <td>0.959146</td>\n",
       "      <td>0.707662</td>\n",
       "      <td>0.814433</td>\n",
       "      <td>67812.000000</td>\n",
       "    </tr>\n",
       "    <tr>\n",
       "      <th>1</th>\n",
       "      <td>0.166043</td>\n",
       "      <td>0.658822</td>\n",
       "      <td>0.265238</td>\n",
       "      <td>5991.000000</td>\n",
       "    </tr>\n",
       "    <tr>\n",
       "      <th>accuracy</th>\n",
       "      <td>0.703698</td>\n",
       "      <td>0.703698</td>\n",
       "      <td>0.703698</td>\n",
       "      <td>0.703698</td>\n",
       "    </tr>\n",
       "    <tr>\n",
       "      <th>macro avg</th>\n",
       "      <td>0.562594</td>\n",
       "      <td>0.683242</td>\n",
       "      <td>0.539835</td>\n",
       "      <td>73803.000000</td>\n",
       "    </tr>\n",
       "    <tr>\n",
       "      <th>weighted avg</th>\n",
       "      <td>0.894766</td>\n",
       "      <td>0.703698</td>\n",
       "      <td>0.769851</td>\n",
       "      <td>73803.000000</td>\n",
       "    </tr>\n",
       "  </tbody>\n",
       "</table>\n",
       "</div>"
      ],
      "text/plain": [
       "              precision    recall  f1-score       support\n",
       "0              0.959146  0.707662  0.814433  67812.000000\n",
       "1              0.166043  0.658822  0.265238   5991.000000\n",
       "accuracy       0.703698  0.703698  0.703698      0.703698\n",
       "macro avg      0.562594  0.683242  0.539835  73803.000000\n",
       "weighted avg   0.894766  0.703698  0.769851  73803.000000"
      ]
     },
     "execution_count": 11,
     "metadata": {},
     "output_type": "execute_result"
    }
   ],
   "source": [
    "df_report = classification_report(y_test, y_pred, output_dict=True)\n",
    "df_report = pd.DataFrame(df_report).transpose()\n",
    "df_report"
   ]
  },
  {
   "cell_type": "code",
   "execution_count": 12,
   "metadata": {},
   "outputs": [
    {
     "name": "stdout",
     "output_type": "stream",
     "text": [
      "Best Parameters:\n",
      "  - Classifier__Min_Child_Weight: 5\n",
      "  - Classifier__Max_Depth: 4\n",
      "  - Classifier__Learning_Rate: 0.2\n",
      "  - Classifier__Gamma: 0.3\n",
      "  - Classifier__Colsample_Bytree: 0.4\n",
      "Best Score: 0.74\n"
     ]
    }
   ],
   "source": [
    "# Params and Score\n",
    "print(\"Best Parameters:\")\n",
    "for param, value in rand_xgb.best_params_.items():\n",
    "    print(f\"  - {param.title()}: {value:.2g}\")\n",
    "print(f\"Best Score: {rand_xgb.best_score_:.2g}\") "
   ]
  },
  {
   "cell_type": "code",
   "execution_count": 16,
   "metadata": {},
   "outputs": [
    {
     "data": {
      "image/png": "[encoded data removed]",
      "text/plain": [
       "<Figure size 640x480 with 1 Axes>"
      ]
     },
     "metadata": {},
     "output_type": "display_data"
    }
   ],
   "source": [
    "# Roc Curve\n",
    "RocCurveDisplay.from_predictions(y_test, y_pred)\n",
    "plt.plot([0,1], [0,1], '--', color = 'y', linewidth= 1)\n",
    "plt.show()"
   ]
  },
  {
   "cell_type": "code",
   "execution_count": null,
   "metadata": {},
   "outputs": [],
   "source": []
  }
 ],
 "metadata": {
  "kernelspec": {
   "display_name": "Python 3.9.13 ('base')",
   "language": "python",
   "name": "python3"
  },
  "language_info": {
   "codemirror_mode": {
    "name": "ipython",
    "version": 3
   },
   "file_extension": ".py",
   "mimetype": "text/x-python",
   "name": "python",
   "nbconvert_exporter": "python",
   "pygments_lexer": "ipython3",
   "version": "3.9.13"
  },
  "orig_nbformat": 4,
  "vscode": {
   "interpreter": {
    "hash": "475e1a16712c75e6f420dc241e46e3a20593f7174cc3b6fcebdfcd1763efcb65"
   }
  }
 },
 "nbformat": 4,
 "nbformat_minor": 2
}
